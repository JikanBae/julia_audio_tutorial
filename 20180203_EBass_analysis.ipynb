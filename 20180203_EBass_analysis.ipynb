{
 "cells": [
  {
   "cell_type": "markdown",
   "metadata": {},
   "source": [
    "エレキベースを手に入れたので、音を録音して色々やってみます。\n",
    "\n",
    "まずは必要となるパッケージを読み込みます。`LibSndFile`は音ファイルの読み書き、`SampledSignals`は音サンプル操作、`Plots`はグラフ描画用です。まだインストールされていない場合には`Pkg.add(\"パッケージ名\")`で導入して下さい。"
   ]
  },
  {
   "cell_type": "code",
   "execution_count": 8,
   "metadata": {},
   "outputs": [],
   "source": [
    "using LibSndFile, SampledSignals, Plots\n",
    "gr();"
   ]
  },
  {
   "cell_type": "markdown",
   "metadata": {},
   "source": [
    "まずは音を読み込みます。"
   ]
  },
  {
   "cell_type": "code",
   "execution_count": 9,
   "metadata": {},
   "outputs": [],
   "source": [
    "snd = load(\"20180203_electric_bass_open.flac\");\n",
    "x = snd.data;\n",
    "fs = snd.samplerate;"
   ]
  },
  {
   "cell_type": "markdown",
   "metadata": {},
   "source": [
    "全体像を見てみましょう。`LibSndFile`の機能をそのまま使うと、簡易的に波形表示を見ることができます。行末にセミコロンを付けなければ計算結果が表示されるのと同じようなかんじです。"
   ]
  },
  {
   "cell_type": "code",
   "execution_count": null,
   "metadata": {},
   "outputs": [],
   "source": [
    "snd"
   ]
  },
  {
   "cell_type": "markdown",
   "metadata": {},
   "source": [
    "自分でプロットするには以下のようにします。"
   ]
  },
  {
   "cell_type": "code",
   "execution_count": null,
   "metadata": {},
   "outputs": [],
   "source": [
    "t = (0:length(x)-1) / fs;\n",
    "plot(t, x,\n",
    "    xlabel=\"Time (s)\", ylabel=\"Amplitude\",\n",
    "    xticks=0:15:t[end],\n",
    "    ylim=(-1, +1),\n",
    "    legend=false)"
   ]
  },
  {
   "cell_type": "markdown",
   "metadata": {},
   "source": [
    "これは開放弦（E1、A1、D2、G2）を順番に一回ずつ演奏したもので、一つのファイルに4音が入っています。先頭にあるE1音のみを、3.85秒〜41.00秒と範囲指定して抜き出します。ただし秒数ではなくサンプル数で指定する必要があるので、秒数に標本化周波数をかけてサンプル数を計算します。また、そのままだと実数型なので、整数型（Int）に変換するために`round()`を使っています。\n",
    "\n",
    "`xE1`はE1音の振幅が、`tE1`は各サンプルの時刻が入ります。"
   ]
  },
  {
   "cell_type": "code",
   "execution_count": null,
   "metadata": {},
   "outputs": [],
   "source": [
    "xE1 = x[round(Int, 3.850*fs) : round(Int, 41.000*fs)];\n",
    "tE1 = (0:length(xE1)-1) / fs;\n",
    "plot(tE1, xE1,\n",
    "    xlabel=\"Time (s)\", ylabel=\"Amplitude\",\n",
    "    ylim=(-1, +1),\n",
    "    legend=false)"
   ]
  },
  {
   "cell_type": "markdown",
   "metadata": {},
   "source": [
    "波形の詳細がどういう風になっているのか調べるために、一部分だけを拡大してみます。たとえば、x軸で2.7秒〜2.9秒の部分だけを拡大表示するときには`xlim=(2.7, 2.9)`とします。"
   ]
  },
  {
   "cell_type": "code",
   "execution_count": null,
   "metadata": {},
   "outputs": [],
   "source": [
    "plot(tE1, xE1,\n",
    "    xlabel=\"Time (s)\", ylabel=\"Amplitude\",\n",
    "    xlim=(2.7, 2.9),\n",
    "    ylim=(-1, +1),\n",
    "    legend=false)"
   ]
  },
  {
   "cell_type": "code",
   "execution_count": null,
   "metadata": {
    "scrolled": true
   },
   "outputs": [],
   "source": [
    "yE1 = fft(xE1);\n",
    "ampspecE1 = abs.(yE1[1:round(Int, length(yE1)/2+1)]);\n",
    "ampspecE1[2:round(Int, length(ampspecE1)-1)] *= 2.0;\n",
    "f = (0:length(ampspecE1)) / length(ampspecE1) * (fs / 2);\n",
    "ampspecE1dB = 20 * log10.(ampspecE1);\n",
    "plot(f, ampspecE1dB-maximum(ampspecE1dB),\n",
    "    xlim=[0, 1500], ylim=[-75, 3],\n",
    "    xlabel=\"Frequency [Hz]\", ylabel=\"Power [dB]\",\n",
    "    title=\"Electric Bass (E1, 41 Hz)\", legend=false)"
   ]
  },
  {
   "cell_type": "markdown",
   "metadata": {},
   "source": [
    "倍音成分がだいたい41の倍数の周波数のところに出ていることが分かります。また、400 Hz付近と800 Hz付近に谷ができていますが、これは弾弦位置によるものです。"
   ]
  }
 ],
 "metadata": {
  "kernelspec": {
   "display_name": "Julia 0.6.2",
   "language": "julia",
   "name": "julia-0.6"
  },
  "language_info": {
   "file_extension": ".jl",
   "mimetype": "application/julia",
   "name": "julia",
   "version": "0.6.2"
  }
 },
 "nbformat": 4,
 "nbformat_minor": 2
}
