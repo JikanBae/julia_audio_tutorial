{
 "cells": [
  {
   "cell_type": "markdown",
   "metadata": {},
   "source": [
    "JuliaでMIDIを使えるようにするMIDI.jlを使用してみるテスト\n",
    "\n",
    "https://juliamusic.github.io/JuliaMusic_documentation.jl/latest/\n",
    "\n",
    "インストールは以下のようにするだけ。\n",
    "```\n",
    "julia> ]\n",
    "(v1.0) pkg> add MIDI\n",
    "(v1.0) pkg> add MotifSequenceGenerator\n",
    "(v1.0) pkg> add MusicManipulations\n",
    "```"
   ]
  },
  {
   "cell_type": "code",
   "execution_count": 2,
   "metadata": {},
   "outputs": [],
   "source": [
    "using MIDI, MotifSequenceGenerator, MusicManipulations"
   ]
  },
  {
   "cell_type": "code",
   "execution_count": null,
   "metadata": {},
   "outputs": [],
   "source": []
  }
 ],
 "metadata": {
  "kernelspec": {
   "display_name": "Julia 1.0.1",
   "language": "julia",
   "name": "julia-1.0"
  },
  "language_info": {
   "file_extension": ".jl",
   "mimetype": "application/julia",
   "name": "julia",
   "version": "1.0.1"
  }
 },
 "nbformat": 4,
 "nbformat_minor": 2
}
