{
 "cells": [
  {
   "cell_type": "markdown",
   "metadata": {},
   "source": [
    "# WAV package for reading and writing wav files\n",
    "\n",
    "https://github.com/dancasimiro/WAV.jl"
   ]
  },
  {
   "cell_type": "code",
   "execution_count": 50,
   "metadata": {
    "collapsed": true
   },
   "outputs": [],
   "source": [
    "using WAV"
   ]
  },
  {
   "cell_type": "code",
   "execution_count": 51,
   "metadata": {},
   "outputs": [
    {
     "data": {
      "text/plain": [
       "10-element Array{Float64,1}:\n",
       " -3.05185e-5 \n",
       "  6.1037e-5  \n",
       " -9.15555e-5 \n",
       "  0.000122074\n",
       " -0.000152593\n",
       "  0.000152593\n",
       " -0.000122074\n",
       "  6.1037e-5  \n",
       "  0.0        \n",
       " -3.05185e-5 "
      ]
     },
     "execution_count": 51,
     "metadata": {},
     "output_type": "execute_result"
    }
   ],
   "source": [
    "y, fs, nbits, opt = wavread(\"recorder.wav\");\n",
    "y[1:10]"
   ]
  },
  {
   "cell_type": "code",
   "execution_count": 52,
   "metadata": {},
   "outputs": [
    {
     "data": {
      "text/plain": [
       "10-element Array{Int16,1}:\n",
       " -1\n",
       "  2\n",
       " -3\n",
       "  4\n",
       " -5\n",
       "  5\n",
       " -4\n",
       "  2\n",
       "  0\n",
       " -1"
      ]
     },
     "execution_count": 52,
     "metadata": {},
     "output_type": "execute_result"
    }
   ],
   "source": [
    "y, fs, nbits, opt = wavread(\"recorder.wav\", format=\"native\");\n",
    "y[1:10]"
   ]
  },
  {
   "cell_type": "code",
   "execution_count": 53,
   "metadata": {},
   "outputs": [
    {
     "data": {
      "text/plain": [
       "(352800, 1)"
      ]
     },
     "execution_count": 53,
     "metadata": {},
     "output_type": "execute_result"
    }
   ],
   "source": [
    "wavread(\"recorder.wav\", format=\"size\")"
   ]
  },
  {
   "cell_type": "code",
   "execution_count": 54,
   "metadata": {},
   "outputs": [
    {
     "data": {
      "text/plain": [
       "1×1 Array{Float64,2}:\n",
       " -3.05185e-5"
      ]
     },
     "execution_count": 54,
     "metadata": {},
     "output_type": "execute_result"
    }
   ],
   "source": [
    "y, fs, nbits, opt = wavread(\"recorder.wav\", subrange=1);\n",
    "y"
   ]
  },
  {
   "cell_type": "code",
   "execution_count": 55,
   "metadata": {},
   "outputs": [
    {
     "data": {
      "text/plain": [
       "5×1 Array{Float64,2}:\n",
       "  0.000152593\n",
       " -0.000122074\n",
       "  6.1037e-5  \n",
       "  0.0        \n",
       " -3.05185e-5 "
      ]
     },
     "execution_count": 55,
     "metadata": {},
     "output_type": "execute_result"
    }
   ],
   "source": [
    "y, fs, nbits, opt = wavread(\"recorder.wav\", subrange=6:10);\n",
    "y"
   ]
  },
  {
   "cell_type": "code",
   "execution_count": 56,
   "metadata": {},
   "outputs": [
    {
     "data": {
      "text/plain": [
       "true"
      ]
     },
     "execution_count": 56,
     "metadata": {},
     "output_type": "execute_result"
    }
   ],
   "source": [
    "isformat(opt[:fmt], WAVE_FORMAT_PCM)"
   ]
  },
  {
   "cell_type": "code",
   "execution_count": 59,
   "metadata": {},
   "outputs": [
    {
     "ename": "LoadError",
     "evalue": "\u001b[91mPyError (ccall(@pysym(:PyObject_Call), PyPtr, (PyPtr, PyPtr, PyPtr), o, arg, C_NULL)) <type 'exceptions.ValueError'>\nValueError(u'x and y must have same first dimension, but have shapes (352801,) and (352800, 1)',)\n  File \"/Users/marui/.julia/v0.6/Conda/deps/usr/lib/python2.7/site-packages/matplotlib/pyplot.py\", line 3317, in plot\n    ret = ax.plot(*args, **kwargs)\n  File \"/Users/marui/.julia/v0.6/Conda/deps/usr/lib/python2.7/site-packages/matplotlib/__init__.py\", line 1898, in inner\n    return func(ax, *args, **kwargs)\n  File \"/Users/marui/.julia/v0.6/Conda/deps/usr/lib/python2.7/site-packages/matplotlib/axes/_axes.py\", line 1406, in plot\n    for line in self._get_lines(*args, **kwargs):\n  File \"/Users/marui/.julia/v0.6/Conda/deps/usr/lib/python2.7/site-packages/matplotlib/axes/_base.py\", line 407, in _grab_next_args\n    for seg in self._plot_args(remaining, kwargs):\n  File \"/Users/marui/.julia/v0.6/Conda/deps/usr/lib/python2.7/site-packages/matplotlib/axes/_base.py\", line 385, in _plot_args\n    x, y = self._xy_from_xy(x, y)\n  File \"/Users/marui/.julia/v0.6/Conda/deps/usr/lib/python2.7/site-packages/matplotlib/axes/_base.py\", line 244, in _xy_from_xy\n    \"have shapes {} and {}\".format(x.shape, y.shape))\n\u001b[39m",
     "output_type": "error",
     "traceback": [
      "\u001b[91mPyError (ccall(@pysym(:PyObject_Call), PyPtr, (PyPtr, PyPtr, PyPtr), o, arg, C_NULL)) <type 'exceptions.ValueError'>\nValueError(u'x and y must have same first dimension, but have shapes (352801,) and (352800, 1)',)\n  File \"/Users/marui/.julia/v0.6/Conda/deps/usr/lib/python2.7/site-packages/matplotlib/pyplot.py\", line 3317, in plot\n    ret = ax.plot(*args, **kwargs)\n  File \"/Users/marui/.julia/v0.6/Conda/deps/usr/lib/python2.7/site-packages/matplotlib/__init__.py\", line 1898, in inner\n    return func(ax, *args, **kwargs)\n  File \"/Users/marui/.julia/v0.6/Conda/deps/usr/lib/python2.7/site-packages/matplotlib/axes/_axes.py\", line 1406, in plot\n    for line in self._get_lines(*args, **kwargs):\n  File \"/Users/marui/.julia/v0.6/Conda/deps/usr/lib/python2.7/site-packages/matplotlib/axes/_base.py\", line 407, in _grab_next_args\n    for seg in self._plot_args(remaining, kwargs):\n  File \"/Users/marui/.julia/v0.6/Conda/deps/usr/lib/python2.7/site-packages/matplotlib/axes/_base.py\", line 385, in _plot_args\n    x, y = self._xy_from_xy(x, y)\n  File \"/Users/marui/.julia/v0.6/Conda/deps/usr/lib/python2.7/site-packages/matplotlib/axes/_base.py\", line 244, in _xy_from_xy\n    \"have shapes {} and {}\".format(x.shape, y.shape))\n\u001b[39m",
      "",
      "Stacktrace:",
      " [1] \u001b[1mpyerr_check\u001b[22m\u001b[22m at \u001b[1m/Users/marui/.julia/v0.6/PyCall/src/exception.jl:56\u001b[22m\u001b[22m [inlined]",
      " [2] \u001b[1mpyerr_check\u001b[22m\u001b[22m at \u001b[1m/Users/marui/.julia/v0.6/PyCall/src/exception.jl:61\u001b[22m\u001b[22m [inlined]",
      " [3] \u001b[1mmacro expansion\u001b[22m\u001b[22m at \u001b[1m/Users/marui/.julia/v0.6/PyCall/src/exception.jl:81\u001b[22m\u001b[22m [inlined]",
      " [4] \u001b[1m#_pycall#67\u001b[22m\u001b[22m\u001b[1m(\u001b[22m\u001b[22m::Array{Any,1}, ::Function, ::PyCall.PyObject, ::StepRangeLen{Float32,Base.TwicePrecision{Float32},Base.TwicePrecision{Float32}}, ::Vararg{Any,N} where N\u001b[1m)\u001b[22m\u001b[22m at \u001b[1m/Users/marui/.julia/v0.6/PyCall/src/PyCall.jl:653\u001b[22m\u001b[22m",
      " [5] \u001b[1m_pycall\u001b[22m\u001b[22m\u001b[1m(\u001b[22m\u001b[22m::PyCall.PyObject, ::StepRangeLen{Float32,Base.TwicePrecision{Float32},Base.TwicePrecision{Float32}}, ::Vararg{Any,N} where N\u001b[1m)\u001b[22m\u001b[22m at \u001b[1m/Users/marui/.julia/v0.6/PyCall/src/PyCall.jl:641\u001b[22m\u001b[22m",
      " [6] \u001b[1m#pycall#71\u001b[22m\u001b[22m\u001b[1m(\u001b[22m\u001b[22m::Array{Any,1}, ::Function, ::PyCall.PyObject, ::Type{PyCall.PyAny}, ::StepRangeLen{Float32,Base.TwicePrecision{Float32},Base.TwicePrecision{Float32}}, ::Vararg{Any,N} where N\u001b[1m)\u001b[22m\u001b[22m at \u001b[1m/Users/marui/.julia/v0.6/PyCall/src/PyCall.jl:675\u001b[22m\u001b[22m",
      " [7] \u001b[1mpycall\u001b[22m\u001b[22m\u001b[1m(\u001b[22m\u001b[22m::PyCall.PyObject, ::Type{PyCall.PyAny}, ::StepRangeLen{Float32,Base.TwicePrecision{Float32},Base.TwicePrecision{Float32}}, ::Vararg{Any,N} where N\u001b[1m)\u001b[22m\u001b[22m at \u001b[1m/Users/marui/.julia/v0.6/PyCall/src/PyCall.jl:675\u001b[22m\u001b[22m",
      " [8] \u001b[1m#plot#85\u001b[22m\u001b[22m\u001b[1m(\u001b[22m\u001b[22m::Array{Any,1}, ::Function, ::StepRangeLen{Float32,Base.TwicePrecision{Float32},Base.TwicePrecision{Float32}}, ::Vararg{Any,N} where N\u001b[1m)\u001b[22m\u001b[22m at \u001b[1m/Users/marui/.julia/v0.6/PyPlot/src/PyPlot.jl:172\u001b[22m\u001b[22m",
      " [9] \u001b[1mplot\u001b[22m\u001b[22m\u001b[1m(\u001b[22m\u001b[22m::StepRangeLen{Float32,Base.TwicePrecision{Float32},Base.TwicePrecision{Float32}}, ::Vararg{Any,N} where N\u001b[1m)\u001b[22m\u001b[22m at \u001b[1m/Users/marui/.julia/v0.6/PyPlot/src/PyPlot.jl:169\u001b[22m\u001b[22m",
      " [10] \u001b[1minclude_string\u001b[22m\u001b[22m\u001b[1m(\u001b[22m\u001b[22m::String, ::String\u001b[1m)\u001b[22m\u001b[22m at \u001b[1m./loading.jl:515\u001b[22m\u001b[22m"
     ]
    }
   ],
   "source": [
    "using PyPlot\n",
    "y, fs, nbits, opt = wavread(\"recorder.wav\");\n",
    "t = (0:length(y)) / fs;\n",
    "plot(t, y);"
   ]
  },
  {
   "cell_type": "code",
   "execution_count": null,
   "metadata": {
    "collapsed": true
   },
   "outputs": [],
   "source": []
  }
 ],
 "metadata": {
  "kernelspec": {
   "display_name": "Julia 0.6.0",
   "language": "julia",
   "name": "julia-0.6"
  },
  "language_info": {
   "file_extension": ".jl",
   "mimetype": "application/julia",
   "name": "julia",
   "version": "0.6.0"
  }
 },
 "nbformat": 4,
 "nbformat_minor": 2
}
