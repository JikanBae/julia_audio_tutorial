{
 "cells": [
  {
   "cell_type": "code",
   "execution_count": 27,
   "metadata": {},
   "outputs": [],
   "source": [
    "using FileIO: load, save\n",
    "import LibSndFile\n",
    "using SampledSignals, Plots\n",
    "include(\"/Users/marui/Dropbox/_julia/audioutil.jl\");"
   ]
  },
  {
   "cell_type": "markdown",
   "metadata": {},
   "source": [
    "# making swept-sine"
   ]
  },
  {
   "cell_type": "code",
   "execution_count": 30,
   "metadata": {
    "scrolled": false
   },
   "outputs": [
    {
     "ename": "UndefVarError",
     "evalue": "UndefVarError: plot not defined",
     "output_type": "error",
     "traceback": [
      "UndefVarError: plot not defined",
      "",
      "Stacktrace:",
      " [1] plot_magnitude(::Array{Float64,1}, ::Int64, ::Int64) at /Users/marui/Dropbox/_julia/audioutil.jl:880",
      " [2] plot_magnitude(::Array{Float64,1}, ::Int64) at /Users/marui/Dropbox/_julia/audioutil.jl:866",
      " [3] top-level scope at In[30]:20"
     ]
    }
   ],
   "source": [
    "duration = 5.0;\n",
    "fs = 44100;\n",
    "frange = (1, fs/2);\n",
    "#frange = (1000/sqrt(2), 1000*sqrt(2));\n",
    "\n",
    "fL = frange[1] * 2pi;\n",
    "fH = frange[2] * 2pi;\n",
    "t = (0:duration*fs-1) / fs;\n",
    "\n",
    "if true\n",
    "    # log sweep\n",
    "    L = duration / log(fH / fL);\n",
    "    K = fL * L;\n",
    "    x = sin.(K * (exp.(t/L) .- 1.0));\n",
    "else\n",
    "    # linear sweep\n",
    "    f = (t .* (t/duration * (fH - fL)) .+ fL) / 2;\n",
    "    x = sin.(fL*t + (fH-fL)/duration * t .^ 2 / 2);\n",
    "end\n",
    "\n",
    "#plot_magnitude(x, fs);\n",
    "\n",
    "buf = SampleBuf(map(PCM16Sample, normalize_signal(x)), fs);\n",
    "save(\"sweep.flac\", buf);\n",
    "#buf = SampleBuf(x, fs);\n",
    "#save(\"sweep.wav\", buf);"
   ]
  },
  {
   "cell_type": "markdown",
   "metadata": {},
   "source": [
    "# phase randomization"
   ]
  },
  {
   "cell_type": "code",
   "execution_count": 29,
   "metadata": {
    "scrolled": false
   },
   "outputs": [],
   "source": [
    "X = fft(x);\n",
    "p = randperm(floor(Int, length(X)/2-1)) .+ 1;\n",
    "Y_mag = abs.(X);\n",
    "Y_phase = angle.(X);\n",
    "Y_phase[2:floor(Int, length(X)/2)] = angle.(X[p]);\n",
    "Y_phase[end:-1:floor(Int, length(X)/2) .+ 2] = angle.(X[length(X) .- p .+ 1]);\n",
    "y = real(ifft(Y_mag .* exp.((1im) * Y_phase)));\n",
    "\n",
    "y = fadeout(fadein(freeze(y), duration/50, fs), duration/50, fs);\n",
    "y = remove_dc_offset(y);\n",
    "\n",
    "#plot_magnitude(y, fs)\n",
    "\n",
    "buf = SampleBuf(map(PCM16Sample, normalize_signal(y)), fs);\n",
    "save(\"sweep_rand.flac\", buf);"
   ]
  },
  {
   "cell_type": "code",
   "execution_count": 6,
   "metadata": {},
   "outputs": [
    {
     "ename": "UndefVarError",
     "evalue": "UndefVarError: mean not defined",
     "output_type": "error",
     "traceback": [
      "UndefVarError: mean not defined",
      "",
      "Stacktrace:",
      " [1] remove_dc_offset(::Array{Float64,1}) at /Users/marui/Dropbox/_julia/audioutil.jl:1095",
      " [2] top-level scope at In[6]:5"
     ]
    }
   ],
   "source": [
    "z = freeze(x);\n",
    "#plot_magnitude(z, fs);\n",
    "\n",
    "z = fadeout(fadein(freeze(z), duration/50, fs), duration/50, fs);\n",
    "z = remove_dc_offset(z);\n",
    "\n",
    "buf = SampleBuf(map(PCM16Sample, normalize_signal(z)), fs);\n",
    "save(\"sweep_rand2.flac\", buf);"
   ]
  },
  {
   "cell_type": "code",
   "execution_count": null,
   "metadata": {},
   "outputs": [],
   "source": []
  }
 ],
 "metadata": {
  "kernelspec": {
   "display_name": "Julia 1.0.0",
   "language": "julia",
   "name": "julia-1.0"
  },
  "language_info": {
   "file_extension": ".jl",
   "mimetype": "application/julia",
   "name": "julia",
   "version": "1.0.1"
  }
 },
 "nbformat": 4,
 "nbformat_minor": 2
}
